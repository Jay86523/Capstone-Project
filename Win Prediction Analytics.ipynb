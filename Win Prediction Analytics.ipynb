{
 "cells": [
  {
   "cell_type": "markdown",
   "id": "f0ef296e",
   "metadata": {},
   "source": [
    "### This project involves analyzing data from an IT consulting company to determine the factors that impact the probability of winning a project. By developing a predictive model, the company can prioritize its opportunities and allocate resources to increase its win rate and revenue. The project will involve data preprocessing, exploratory data analysis, feature selection, model selection, and performance evaluation. The goal is to help the company make data-driven decisions and optimize its deal-winning strategy."
   ]
  },
  {
   "cell_type": "markdown",
   "id": "f4f8c3d7",
   "metadata": {},
   "source": [
    "The code imports necessary packages/modules such as Pandas, NumPy, Seaborn, Matplotlib, warnings, PrettyTable, and Scikit-learn, sets some configurations for the display of Pandas dataframes, and ignores warnings. It also creates an instance of the PrettyTable class and imports the metrics module from Scikit-learn."
   ]
  },
  {
   "cell_type": "code",
   "execution_count": 1,
   "id": "beeaeb80",
   "metadata": {},
   "outputs": [],
   "source": [
    "import pandas as pd\n",
    "import numpy as np\n",
    "import seaborn as sns\n",
    "#sns.set_style(\"whitegrid\")\n",
    "import matplotlib.pyplot as plt\n",
    "import warnings\n",
    "warnings.filterwarnings('ignore')\n",
    "from prettytable import PrettyTable as pt\n",
    "from sklearn import metrics\n",
    "pd.set_option('display.max_columns', None)\n",
    "pd.set_option('display.max_rows', 100)"
   ]
  },
  {
   "cell_type": "code",
   "execution_count": 2,
   "id": "ff5d719a",
   "metadata": {},
   "outputs": [],
   "source": [
    "df = pd.read_excel('Win_Prediction_Data.xlsx')"
   ]
  },
  {
   "cell_type": "code",
   "execution_count": 3,
   "id": "4a41c20c",
   "metadata": {
    "scrolled": true
   },
   "outputs": [
    {
     "data": {
      "text/html": [
       "<div>\n",
       "<style scoped>\n",
       "    .dataframe tbody tr th:only-of-type {\n",
       "        vertical-align: middle;\n",
       "    }\n",
       "\n",
       "    .dataframe tbody tr th {\n",
       "        vertical-align: top;\n",
       "    }\n",
       "\n",
       "    .dataframe thead th {\n",
       "        text-align: right;\n",
       "    }\n",
       "</style>\n",
       "<table border=\"1\" class=\"dataframe\">\n",
       "  <thead>\n",
       "    <tr style=\"text-align: right;\">\n",
       "      <th></th>\n",
       "      <th>Client Category</th>\n",
       "      <th>Solution Type</th>\n",
       "      <th>Deal Date</th>\n",
       "      <th>Sector</th>\n",
       "      <th>Location</th>\n",
       "      <th>VP Name</th>\n",
       "      <th>Manager Name</th>\n",
       "      <th>Deal Cost</th>\n",
       "      <th>Deal Status Code</th>\n",
       "    </tr>\n",
       "  </thead>\n",
       "  <tbody>\n",
       "    <tr>\n",
       "      <th>0</th>\n",
       "      <td>Telecom</td>\n",
       "      <td>Solution 7</td>\n",
       "      <td>2012-03-27</td>\n",
       "      <td>Sector 24</td>\n",
       "      <td>L5</td>\n",
       "      <td>Ekta Zutshi</td>\n",
       "      <td>Gopa Trilochana</td>\n",
       "      <td>150000.00</td>\n",
       "      <td>Won</td>\n",
       "    </tr>\n",
       "    <tr>\n",
       "      <th>1</th>\n",
       "      <td>Telecom</td>\n",
       "      <td>Solution 7</td>\n",
       "      <td>2012-09-25</td>\n",
       "      <td>Sector 24</td>\n",
       "      <td>L5</td>\n",
       "      <td>Ekta Zutshi</td>\n",
       "      <td>Gopa Trilochana</td>\n",
       "      <td>744705.88</td>\n",
       "      <td>Won</td>\n",
       "    </tr>\n",
       "    <tr>\n",
       "      <th>2</th>\n",
       "      <td>Internal</td>\n",
       "      <td>Solution 59</td>\n",
       "      <td>2011-08-01</td>\n",
       "      <td>Sector 20</td>\n",
       "      <td>Others</td>\n",
       "      <td>Ekta Zutshi</td>\n",
       "      <td>Russell Dahlen</td>\n",
       "      <td>60000.00</td>\n",
       "      <td>Lost</td>\n",
       "    </tr>\n",
       "    <tr>\n",
       "      <th>3</th>\n",
       "      <td>Internal</td>\n",
       "      <td>Solution 59</td>\n",
       "      <td>2011-04-28</td>\n",
       "      <td>Sector 20</td>\n",
       "      <td>Others</td>\n",
       "      <td>Ekta Zutshi</td>\n",
       "      <td>Russell Dahlen</td>\n",
       "      <td>60000.00</td>\n",
       "      <td>Lost</td>\n",
       "    </tr>\n",
       "    <tr>\n",
       "      <th>4</th>\n",
       "      <td>Internal</td>\n",
       "      <td>Solution 32</td>\n",
       "      <td>2011-06-03</td>\n",
       "      <td>Sector 20</td>\n",
       "      <td>Others</td>\n",
       "      <td>Ekta Zutshi</td>\n",
       "      <td>Russell Dahlen</td>\n",
       "      <td>80882.35</td>\n",
       "      <td>Lost</td>\n",
       "    </tr>\n",
       "  </tbody>\n",
       "</table>\n",
       "</div>"
      ],
      "text/plain": [
       "  Client Category Solution Type  Deal Date     Sector Location      VP Name  \\\n",
       "0         Telecom    Solution 7 2012-03-27  Sector 24       L5  Ekta Zutshi   \n",
       "1         Telecom    Solution 7 2012-09-25  Sector 24       L5  Ekta Zutshi   \n",
       "2        Internal   Solution 59 2011-08-01  Sector 20   Others  Ekta Zutshi   \n",
       "3        Internal   Solution 59 2011-04-28  Sector 20   Others  Ekta Zutshi   \n",
       "4        Internal   Solution 32 2011-06-03  Sector 20   Others  Ekta Zutshi   \n",
       "\n",
       "      Manager Name  Deal Cost Deal Status Code  \n",
       "0  Gopa Trilochana  150000.00              Won  \n",
       "1  Gopa Trilochana  744705.88              Won  \n",
       "2   Russell Dahlen   60000.00             Lost  \n",
       "3   Russell Dahlen   60000.00             Lost  \n",
       "4   Russell Dahlen   80882.35             Lost  "
      ]
     },
     "execution_count": 3,
     "metadata": {},
     "output_type": "execute_result"
    }
   ],
   "source": [
    "df.head()"
   ]
  },
  {
   "cell_type": "code",
   "execution_count": 4,
   "id": "793b58bc",
   "metadata": {
    "scrolled": true
   },
   "outputs": [
    {
     "name": "stdout",
     "output_type": "stream",
     "text": [
      "<class 'pandas.core.frame.DataFrame'>\n",
      "RangeIndex: 10061 entries, 0 to 10060\n",
      "Data columns (total 9 columns):\n",
      " #   Column            Non-Null Count  Dtype         \n",
      "---  ------            --------------  -----         \n",
      " 0   Client Category   9982 non-null   object        \n",
      " 1   Solution Type     10061 non-null  object        \n",
      " 2   Deal Date         10061 non-null  datetime64[ns]\n",
      " 3   Sector            10061 non-null  object        \n",
      " 4   Location          10061 non-null  object        \n",
      " 5   VP Name           10061 non-null  object        \n",
      " 6   Manager Name      10061 non-null  object        \n",
      " 7   Deal Cost         10061 non-null  float64       \n",
      " 8   Deal Status Code  10061 non-null  object        \n",
      "dtypes: datetime64[ns](1), float64(1), object(7)\n",
      "memory usage: 707.5+ KB\n"
     ]
    }
   ],
   "source": [
    "df.info()"
   ]
  },
  {
   "cell_type": "code",
   "execution_count": 5,
   "id": "645e0008",
   "metadata": {},
   "outputs": [
    {
     "data": {
      "text/html": [
       "<div>\n",
       "<style scoped>\n",
       "    .dataframe tbody tr th:only-of-type {\n",
       "        vertical-align: middle;\n",
       "    }\n",
       "\n",
       "    .dataframe tbody tr th {\n",
       "        vertical-align: top;\n",
       "    }\n",
       "\n",
       "    .dataframe thead th {\n",
       "        text-align: right;\n",
       "    }\n",
       "</style>\n",
       "<table border=\"1\" class=\"dataframe\">\n",
       "  <thead>\n",
       "    <tr style=\"text-align: right;\">\n",
       "      <th></th>\n",
       "      <th>Deal Cost</th>\n",
       "    </tr>\n",
       "  </thead>\n",
       "  <tbody>\n",
       "    <tr>\n",
       "      <th>count</th>\n",
       "      <td>1.006100e+04</td>\n",
       "    </tr>\n",
       "    <tr>\n",
       "      <th>mean</th>\n",
       "      <td>7.668969e+05</td>\n",
       "    </tr>\n",
       "    <tr>\n",
       "      <th>std</th>\n",
       "      <td>1.619894e+06</td>\n",
       "    </tr>\n",
       "    <tr>\n",
       "      <th>min</th>\n",
       "      <td>0.000000e+00</td>\n",
       "    </tr>\n",
       "    <tr>\n",
       "      <th>25%</th>\n",
       "      <td>1.897059e+05</td>\n",
       "    </tr>\n",
       "    <tr>\n",
       "      <th>50%</th>\n",
       "      <td>3.823529e+05</td>\n",
       "    </tr>\n",
       "    <tr>\n",
       "      <th>75%</th>\n",
       "      <td>7.647059e+05</td>\n",
       "    </tr>\n",
       "    <tr>\n",
       "      <th>max</th>\n",
       "      <td>3.676471e+07</td>\n",
       "    </tr>\n",
       "  </tbody>\n",
       "</table>\n",
       "</div>"
      ],
      "text/plain": [
       "          Deal Cost\n",
       "count  1.006100e+04\n",
       "mean   7.668969e+05\n",
       "std    1.619894e+06\n",
       "min    0.000000e+00\n",
       "25%    1.897059e+05\n",
       "50%    3.823529e+05\n",
       "75%    7.647059e+05\n",
       "max    3.676471e+07"
      ]
     },
     "execution_count": 5,
     "metadata": {},
     "output_type": "execute_result"
    }
   ],
   "source": [
    "df.describe()"
   ]
  },
  {
   "cell_type": "code",
   "execution_count": 6,
   "id": "89e9bdce",
   "metadata": {},
   "outputs": [
    {
     "data": {
      "text/plain": [
       "Client Category       41\n",
       "Solution Type         67\n",
       "Deal Date           2555\n",
       "Sector                25\n",
       "Location              13\n",
       "VP Name               43\n",
       "Manager Name         278\n",
       "Deal Cost           1469\n",
       "Deal Status Code       2\n",
       "dtype: int64"
      ]
     },
     "execution_count": 6,
     "metadata": {},
     "output_type": "execute_result"
    }
   ],
   "source": [
    "df.nunique()"
   ]
  },
  {
   "cell_type": "code",
   "execution_count": 7,
   "id": "267f9082",
   "metadata": {},
   "outputs": [
    {
     "data": {
      "text/html": [
       "<div>\n",
       "<style scoped>\n",
       "    .dataframe tbody tr th:only-of-type {\n",
       "        vertical-align: middle;\n",
       "    }\n",
       "\n",
       "    .dataframe tbody tr th {\n",
       "        vertical-align: top;\n",
       "    }\n",
       "\n",
       "    .dataframe thead th {\n",
       "        text-align: right;\n",
       "    }\n",
       "</style>\n",
       "<table border=\"1\" class=\"dataframe\">\n",
       "  <thead>\n",
       "    <tr style=\"text-align: right;\">\n",
       "      <th></th>\n",
       "      <th>Client Category</th>\n",
       "      <th>Solution Type</th>\n",
       "      <th>Sector</th>\n",
       "      <th>Location</th>\n",
       "      <th>VP Name</th>\n",
       "      <th>Manager Name</th>\n",
       "      <th>Deal Status Code</th>\n",
       "    </tr>\n",
       "  </thead>\n",
       "  <tbody>\n",
       "    <tr>\n",
       "      <th>count</th>\n",
       "      <td>9982</td>\n",
       "      <td>10061</td>\n",
       "      <td>10061</td>\n",
       "      <td>10061</td>\n",
       "      <td>10061</td>\n",
       "      <td>10061</td>\n",
       "      <td>10061</td>\n",
       "    </tr>\n",
       "    <tr>\n",
       "      <th>unique</th>\n",
       "      <td>41</td>\n",
       "      <td>67</td>\n",
       "      <td>25</td>\n",
       "      <td>13</td>\n",
       "      <td>43</td>\n",
       "      <td>278</td>\n",
       "      <td>2</td>\n",
       "    </tr>\n",
       "    <tr>\n",
       "      <th>top</th>\n",
       "      <td>Others</td>\n",
       "      <td>Solution 32</td>\n",
       "      <td>Sector 23</td>\n",
       "      <td>L10</td>\n",
       "      <td>Mervin Harwood</td>\n",
       "      <td>Molly Eakes</td>\n",
       "      <td>Lost</td>\n",
       "    </tr>\n",
       "    <tr>\n",
       "      <th>freq</th>\n",
       "      <td>1763</td>\n",
       "      <td>1439</td>\n",
       "      <td>2693</td>\n",
       "      <td>3360</td>\n",
       "      <td>1166</td>\n",
       "      <td>323</td>\n",
       "      <td>6306</td>\n",
       "    </tr>\n",
       "  </tbody>\n",
       "</table>\n",
       "</div>"
      ],
      "text/plain": [
       "       Client Category Solution Type     Sector Location         VP Name  \\\n",
       "count             9982         10061      10061    10061           10061   \n",
       "unique              41            67         25       13              43   \n",
       "top             Others   Solution 32  Sector 23      L10  Mervin Harwood   \n",
       "freq              1763          1439       2693     3360            1166   \n",
       "\n",
       "       Manager Name Deal Status Code  \n",
       "count         10061            10061  \n",
       "unique          278                2  \n",
       "top     Molly Eakes             Lost  \n",
       "freq            323             6306  "
      ]
     },
     "execution_count": 7,
     "metadata": {},
     "output_type": "execute_result"
    }
   ],
   "source": [
    "df.describe(include='O')"
   ]
  },
  {
   "cell_type": "markdown",
   "id": "acaba354",
   "metadata": {},
   "source": [
    "# EDA WITH WIN % & WIN COUNTS WRT TO VP, MANAGER NAME COMBO."
   ]
  },
  {
   "cell_type": "markdown",
   "id": "89b5da32",
   "metadata": {},
   "source": [
    "# Data Separation as per data format."
   ]
  },
  {
   "cell_type": "code",
   "execution_count": 8,
   "id": "6eb3035e",
   "metadata": {},
   "outputs": [],
   "source": [
    "cat_df=['Client Category', 'Solution Type', 'Sector', 'Location'] \n",
    "num_df=['Deal Cost'] \n",
    "target=['Deal Status Code']\n",
    "Names_df=['VP Name', 'Manager Name']\n",
    "date_df=['Deal Date']"
   ]
  },
  {
   "cell_type": "code",
   "execution_count": 9,
   "id": "76438a72",
   "metadata": {},
   "outputs": [
    {
     "data": {
      "text/plain": [
       "<AxesSubplot:xlabel='Deal Status Code', ylabel='count'>"
      ]
     },
     "execution_count": 9,
     "metadata": {},
     "output_type": "execute_result"
    },
    {
     "data": {
      "image/png": "[encoded data removed]",
      "text/plain": [
       "<Figure size 640x480 with 1 Axes>"
      ]
     },
     "metadata": {},
     "output_type": "display_data"
    }
   ],
   "source": [
    "sns.countplot(x='Deal Status Code',data=df)"
   ]
  },
  {
   "cell_type": "markdown",
   "id": "4cf860e3",
   "metadata": {},
   "source": [
    "# Client Category"
   ]
  },
  {
   "cell_type": "code",
   "execution_count": null,
   "id": "c21da7d5",
   "metadata": {},
   "outputs": [],
   "source": [
    "plt.figure(figsize=(17,8))\n",
    "ax = sns.countplot(x = \"Client Category\", hue = \"Deal Status Code\", data = df)\n",
    "ax.set_xticklabels(ax.get_xticklabels(), rotation=30, ha=\"right\")\n",
    "plt.tight_layout()\n",
    "plt.show()"
   ]
  },
  {
   "cell_type": "code",
   "execution_count": null,
   "id": "279ef8c2",
   "metadata": {},
   "outputs": [],
   "source": [
    "#Win%age of Client Category column\n",
    "Win_Ratio=pd.crosstab(df['Client Category'],df['Deal Status Code'])\n",
    "Win_Ratio['Total']=(Win_Ratio['Won']+Win_Ratio['Lost'])\n",
    "Win_Ratio['Win%']=(Win_Ratio['Won']*100)/(Win_Ratio['Total'])\n",
    "Win_Ratio.sort_values(by=['Win%'],ascending=False).head(10)"
   ]
  },
  {
   "cell_type": "code",
   "execution_count": null,
   "id": "96b69913",
   "metadata": {},
   "outputs": [],
   "source": [
    "df[\"Name Pair\"] = df[\"VP Name\"]+\" \"+df[\"Manager Name\"]"
   ]
  },
  {
   "cell_type": "code",
   "execution_count": null,
   "id": "e22a2d53",
   "metadata": {},
   "outputs": [],
   "source": [
    "cc_df = df[df[\"Deal Status Code\"]==\"Won\"][[\"Name Pair\",\"Client Category\"]]\n",
    "cc_df.head()"
   ]
  },
  {
   "cell_type": "code",
   "execution_count": null,
   "id": "2e32888a",
   "metadata": {},
   "outputs": [],
   "source": [
    "cc_df[cc_df[\"Client Category\"]==\"nan\"][\"Name Pair\"].value_counts()"
   ]
  },
  {
   "cell_type": "code",
   "execution_count": null,
   "id": "ffe0bda8",
   "metadata": {},
   "outputs": [],
   "source": [
    "cc_df[\"Client Category\"].unique()"
   ]
  },
  {
   "cell_type": "code",
   "execution_count": null,
   "id": "50474eec",
   "metadata": {},
   "outputs": [],
   "source": [
    "cc_uniq_list = ['Telecom', 'Internal', 'Consumer Good', 'International Bank',\n",
    "       'Domestic Public Bank', 'Finance', 'Research Development',\n",
    "       'Services_based', 'Consulting', 'Others', 'Manufacturing', 'Tech',\n",
    "       'Domestic Private Bank', 'Healthcare', 'Electronics',\n",
    "       'Automobiles', 'Industries', 'Domestic Bank', 'Pharma',\n",
    "       'Power ind', 'Hospitality', 'Insurance', 'Payment',\n",
    "       'Govt Bank Special', 'Management', 'Media_Journal',\n",
    "       'Retail_market', 'Infrastructure', 'Energy', 'Govt',\n",
    "       'Tax_audit', 'Share_market', 'Logistics', 'Knowledge', 'Energy ',\n",
    "       'Airpline', 'e-commerce', 'Holding', 'Real Estate',\n",
    "       'International Org', 'Medical ']"
   ]
  },
  {
   "cell_type": "code",
   "execution_count": null,
   "id": "ad004586",
   "metadata": {},
   "outputs": [],
   "source": [
    "cc_table=pt([\"Client Category\",\"Names\",\"Won Counts\"])\n",
    "for i in cc_uniq_list:\n",
    "    cc_table.add_row([i,cc_df[cc_df[\"Client Category\"]==i][\"Name Pair\"].value_counts().index[0],cc_df[cc_df[\"Client Category\"]==i][\"Name Pair\"].value_counts()[0]])"
   ]
  },
  {
   "cell_type": "code",
   "execution_count": null,
   "id": "771c2586",
   "metadata": {},
   "outputs": [],
   "source": [
    "cc_table.sortby = 'Won Counts'\n",
    "cc_table.reversesort = True\n",
    "cc_table"
   ]
  },
  {
   "cell_type": "markdown",
   "id": "dbc6ed5b",
   "metadata": {},
   "source": [
    "# Solution Type"
   ]
  },
  {
   "cell_type": "code",
   "execution_count": null,
   "id": "f5676df5",
   "metadata": {},
   "outputs": [],
   "source": [
    "plt.figure(figsize=(17,8))\n",
    "ax = sns.countplot(x = \"Solution Type\", hue = \"Deal Status Code\", data = df)\n",
    "ax.set_xticklabels(ax.get_xticklabels(), rotation=30, ha=\"right\")\n",
    "plt.tight_layout()\n",
    "plt.show()"
   ]
  },
  {
   "cell_type": "code",
   "execution_count": null,
   "id": "4bd4cb09",
   "metadata": {},
   "outputs": [],
   "source": [
    "#Win%age of Solution Type column\n",
    "Win_Ratio=pd.crosstab(df['Solution Type'],df['Deal Status Code'])\n",
    "Win_Ratio['Total']=(Win_Ratio['Won']+Win_Ratio['Lost'])\n",
    "Win_Ratio['Win%']=(Win_Ratio['Won']*100)/(Win_Ratio['Total'])\n",
    "Win_Ratio.sort_values(by=['Win%'],ascending=False).head(10)"
   ]
  },
  {
   "cell_type": "markdown",
   "id": "6c787537",
   "metadata": {},
   "source": [
    "# Years, Months & Quarter Wise."
   ]
  },
  {
   "cell_type": "code",
   "execution_count": null,
   "id": "8f12d7f4",
   "metadata": {},
   "outputs": [],
   "source": [
    "fig,ax = plt.subplots(figsize=(20,5))\n",
    "\n",
    "sns.kdeplot(df[df[\"Deal Status Code\"]==\"Won\"][\"Deal Date\"], shade=True, color=\"blue\", label=\"Won\",ax=ax)\n",
    "sns.kdeplot(df[df[\"Deal Status Code\"]==\"Lost\"][\"Deal Date\"], shade=True, color=\"green\", label=\"Lost\",ax=ax)\n",
    "\n",
    "ax.set_xlabel(\"Deal Date\")\n",
    "ax.set_ylabel(\"Counts\")\n",
    "\n",
    "fig.suptitle(\"Deal Date vs. Deal Status Code\")\n",
    "\n",
    "ax.legend();"
   ]
  },
  {
   "cell_type": "markdown",
   "id": "f4a84814",
   "metadata": {},
   "source": [
    "# Sector"
   ]
  },
  {
   "cell_type": "code",
   "execution_count": null,
   "id": "a78c51c2",
   "metadata": {},
   "outputs": [],
   "source": [
    "plt.figure(figsize=(17,8))\n",
    "ax = sns.countplot(x = \"Sector\", hue = \"Deal Status Code\", data = df)\n",
    "ax.set_xticklabels(ax.get_xticklabels(), rotation=30, ha=\"right\")\n",
    "plt.tight_layout()\n",
    "plt.show()"
   ]
  },
  {
   "cell_type": "code",
   "execution_count": null,
   "id": "c747c09a",
   "metadata": {},
   "outputs": [],
   "source": [
    "#Win%age of Sector column\n",
    "Win_Ratio=pd.crosstab(df['Sector'],df['Deal Status Code'])\n",
    "Win_Ratio['Total']=(Win_Ratio['Won']+Win_Ratio['Lost'])\n",
    "Win_Ratio['Win%']=(Win_Ratio['Won']*100)/(Win_Ratio['Total'])\n",
    "Win_Ratio.sort_values(by=['Win%'],ascending=False).head(10)"
   ]
  },
  {
   "cell_type": "code",
   "execution_count": null,
   "id": "36a43855",
   "metadata": {},
   "outputs": [],
   "source": [
    "sect_df = df[df[\"Deal Status Code\"]==\"Won\"][[\"Name Pair\",\"Sector\"]]\n",
    "sect_df[\"Sector\"].head()"
   ]
  },
  {
   "cell_type": "code",
   "execution_count": null,
   "id": "492139b9",
   "metadata": {},
   "outputs": [],
   "source": [
    "sect_table=pt([\"Sector\",\"Names\",\"Won Counts\"])\n",
    "for i in range(1,len(sect_df[\"Sector\"].unique())):\n",
    "    sect_table.add_row([\"Sector {}\".format(i),sect_df[sect_df[\"Sector\"]==\"Sector {}\".format(i)][\"Name Pair\"].value_counts().index[0],sect_df[sect_df[\"Sector\"]==\"Sector {}\".format(i)][\"Name Pair\"].value_counts()[0]])"
   ]
  },
  {
   "cell_type": "code",
   "execution_count": null,
   "id": "f69d74fe",
   "metadata": {},
   "outputs": [],
   "source": [
    "sect_table.sortby = 'Won Counts'\n",
    "sect_table.reversesort = True\n",
    "sect_table"
   ]
  },
  {
   "cell_type": "markdown",
   "id": "62a539bf",
   "metadata": {},
   "source": [
    "# Location"
   ]
  },
  {
   "cell_type": "code",
   "execution_count": null,
   "id": "cfb293d3",
   "metadata": {},
   "outputs": [],
   "source": [
    "plt.figure(figsize=(17,8))\n",
    "ax = sns.countplot(x = \"Location\", hue = \"Deal Status Code\", data = df)\n",
    "ax.set_xticklabels(ax.get_xticklabels(), rotation=30, ha=\"right\")\n",
    "plt.tight_layout()\n",
    "plt.show()"
   ]
  },
  {
   "cell_type": "code",
   "execution_count": null,
   "id": "2e6333e6",
   "metadata": {},
   "outputs": [],
   "source": [
    "#Win%age of Location column\n",
    "Win_Ratio=pd.crosstab(df['Location'],df['Deal Status Code'])\n",
    "Win_Ratio['Total']=(Win_Ratio['Won']+Win_Ratio['Lost'])\n",
    "Win_Ratio['Win%']=(Win_Ratio['Won']*100)/(Win_Ratio['Total'])\n",
    "Win_Ratio.sort_values(by=['Win%'],ascending=False).head(10)"
   ]
  },
  {
   "cell_type": "code",
   "execution_count": null,
   "id": "e2e711b8",
   "metadata": {},
   "outputs": [],
   "source": [
    "loc_df = df[df[\"Deal Status Code\"]==\"Won\"][[\"Name Pair\",\"Location\"]]\n",
    "loc_df.head()"
   ]
  },
  {
   "cell_type": "code",
   "execution_count": null,
   "id": "f015b7c2",
   "metadata": {},
   "outputs": [],
   "source": [
    "loc_table=pt([\"Location\",\"Names\",\"Won Counts\"])\n",
    "loc_table.add_row([\"Others\",loc_df[loc_df[\"Location\"]==\"Others\"][\"Name Pair\"].value_counts().index[0],loc_df[loc_df[\"Location\"]==\"Others\"][\"Name Pair\"].value_counts()[0]])\n",
    "Loc,Names,Counts=[],[],[]\n",
    "for i in range(1,len(loc_df[\"Location\"].unique())):\n",
    "    loc_table.add_row([\"Location {}\".format(i),loc_df[loc_df[\"Location\"]==\"L{}\".format(i)][\"Name Pair\"].value_counts().index[0],loc_df[loc_df[\"Location\"]==\"L{}\".format(i)][\"Name Pair\"].value_counts()[0]])"
   ]
  },
  {
   "cell_type": "code",
   "execution_count": null,
   "id": "830ed91a",
   "metadata": {},
   "outputs": [],
   "source": [
    "loc_table.sortby = 'Won Counts'\n",
    "loc_table.reversesort = True\n",
    "loc_table"
   ]
  },
  {
   "cell_type": "markdown",
   "id": "78e6ab23",
   "metadata": {},
   "source": [
    "# VP Name"
   ]
  },
  {
   "cell_type": "code",
   "execution_count": null,
   "id": "54f340b3",
   "metadata": {},
   "outputs": [],
   "source": [
    "plt.figure(figsize=(17,8))\n",
    "ax = sns.countplot(x = \"VP Name\", hue = \"Deal Status Code\", data = df)\n",
    "ax.set_xticklabels(ax.get_xticklabels(), rotation=80, ha=\"right\")\n",
    "plt.tight_layout()\n",
    "plt.show()"
   ]
  },
  {
   "cell_type": "code",
   "execution_count": null,
   "id": "cac67585",
   "metadata": {},
   "outputs": [],
   "source": [
    "#Win%age of VP Name column\n",
    "Win_Ratio=pd.crosstab(df[\"Name Pair\"],df['Deal Status Code'])\n",
    "Win_Ratio['Total']=(Win_Ratio['Won']+Win_Ratio['Lost'])\n",
    "Win_Ratio['Win%']=(Win_Ratio['Won']*100)/(Win_Ratio['Total'])\n",
    "Win_Ratio.sort_values(by=['Win%'],ascending=False).head(10)"
   ]
  },
  {
   "cell_type": "markdown",
   "id": "acc162ac",
   "metadata": {},
   "source": [
    "# LOST % & LOST COUNTS WRT TO VP, MANAGER NAME COMBO."
   ]
  },
  {
   "cell_type": "markdown",
   "id": "47791cb0",
   "metadata": {},
   "source": [
    "# Client Category"
   ]
  },
  {
   "cell_type": "code",
   "execution_count": null,
   "id": "5efb45dc",
   "metadata": {},
   "outputs": [],
   "source": [
    "#Lost%age of Client Category column\n",
    "Win_Ratio=pd.crosstab(df['Client Category'],df['Deal Status Code'])\n",
    "Win_Ratio['Total']=(Win_Ratio['Lost']+Win_Ratio['Won'])\n",
    "Win_Ratio['Lost%']=(Win_Ratio['Lost']*100)/(Win_Ratio['Total'])\n",
    "Win_Ratio.sort_values(by=['Lost%'],ascending=False).head(10)"
   ]
  },
  {
   "cell_type": "code",
   "execution_count": null,
   "id": "28781124",
   "metadata": {},
   "outputs": [],
   "source": [
    "cc_df_lost = df[df[\"Deal Status Code\"]==\"Lost\"][[\"Name Pair\",\"Client Category\"]]\n",
    "cc_df_lost.head()"
   ]
  },
  {
   "cell_type": "code",
   "execution_count": null,
   "id": "16fc9c33",
   "metadata": {},
   "outputs": [],
   "source": [
    "cc_df_lost[cc_df_lost[\"Client Category\"]==\"nan\"][\"Name Pair\"].value_counts()"
   ]
  },
  {
   "cell_type": "code",
   "execution_count": null,
   "id": "e6e199cb",
   "metadata": {},
   "outputs": [],
   "source": [
    "cc_df_lost[\"Client Category\"].unique()"
   ]
  },
  {
   "cell_type": "code",
   "execution_count": null,
   "id": "c1f19939",
   "metadata": {},
   "outputs": [],
   "source": [
    "cc_uniq_list = ['Telecom', 'Internal', 'Consumer Good', 'International Bank',\n",
    "       'Domestic Public Bank', 'Finance', 'Research Development',\n",
    "       'Services_based', 'Consulting', 'Others', 'Manufacturing', 'Tech',\n",
    "       'Domestic Private Bank', 'Healthcare', 'Electronics',\n",
    "       'Automobiles', 'Industries', 'Domestic Bank', 'Pharma',\n",
    "       'Power ind', 'Hospitality', 'Insurance', 'Payment',\n",
    "       'Govt Bank Special', 'Management', 'Media_Journal',\n",
    "       'Retail_market', 'Infrastructure', 'Energy', 'Govt',\n",
    "       'Tax_audit', 'Share_market', 'Logistics', 'Knowledge', 'Energy ',\n",
    "       'Airpline', 'e-commerce', 'Holding', 'Real Estate',\n",
    "       'International Org', 'Medical ']"
   ]
  },
  {
   "cell_type": "code",
   "execution_count": null,
   "id": "a1781d8c",
   "metadata": {},
   "outputs": [],
   "source": [
    "cc_table_lost=pt([\"Client Category\",\"Names\",\"Lost Counts\"])\n",
    "for i in cc_uniq_list:\n",
    "    cc_table_lost.add_row([i,cc_df_lost[cc_df_lost[\"Client Category\"]==i][\"Name Pair\"].value_counts().index[0],cc_df_lost[cc_df_lost[\"Client Category\"]==i][\"Name Pair\"].value_counts()[0]])"
   ]
  },
  {
   "cell_type": "code",
   "execution_count": null,
   "id": "a36acca4",
   "metadata": {},
   "outputs": [],
   "source": [
    "cc_table_lost.sortby = 'Lost Counts'\n",
    "cc_table_lost.reversesort = True\n",
    "cc_table_lost"
   ]
  },
  {
   "cell_type": "markdown",
   "id": "1a7118b9",
   "metadata": {},
   "source": [
    "# Sector"
   ]
  },
  {
   "cell_type": "code",
   "execution_count": null,
   "id": "44e3f576",
   "metadata": {},
   "outputs": [],
   "source": [
    "#Lost%age of Sector column\n",
    "Win_Ratio=pd.crosstab(df['Sector'],df['Deal Status Code'])\n",
    "Win_Ratio['Total']=(Win_Ratio['Lost']+Win_Ratio['Won'])\n",
    "Win_Ratio['Lost%']=(Win_Ratio['Lost']*100)/(Win_Ratio['Total'])\n",
    "Win_Ratio.sort_values(by=['Lost%'],ascending=False).head(10)"
   ]
  },
  {
   "cell_type": "code",
   "execution_count": null,
   "id": "45fc8e66",
   "metadata": {},
   "outputs": [],
   "source": [
    "sect_df_lost = df[df[\"Deal Status Code\"]==\"Lost\"][[\"Name Pair\",\"Sector\"]]\n",
    "sect_df_lost.head()"
   ]
  },
  {
   "cell_type": "code",
   "execution_count": null,
   "id": "6e6e4e1a",
   "metadata": {},
   "outputs": [],
   "source": [
    "sect_table_lost=pt([\"Sector\",\"Names\",\"Lost Counts\"])\n",
    "for i in range(1,len(sect_df_lost[\"Sector\"].unique())):\n",
    "    sect_table_lost.add_row([\"Sector {}\".format(i),sect_df_lost[sect_df_lost[\"Sector\"]==\"Sector {}\".format(i)][\"Name Pair\"].value_counts().index[0],sect_df_lost[sect_df_lost[\"Sector\"]==\"Sector {}\".format(i)][\"Name Pair\"].value_counts()[0]])"
   ]
  },
  {
   "cell_type": "code",
   "execution_count": null,
   "id": "fd3bc5e6",
   "metadata": {},
   "outputs": [],
   "source": [
    "sect_table_lost.sortby = 'Lost Counts'\n",
    "sect_table_lost.reversesort = True\n",
    "sect_table_lost"
   ]
  },
  {
   "cell_type": "markdown",
   "id": "fbd0cf1e",
   "metadata": {},
   "source": [
    "# Location"
   ]
  },
  {
   "cell_type": "code",
   "execution_count": null,
   "id": "3f7d83e3",
   "metadata": {},
   "outputs": [],
   "source": [
    "#Win%age of Location column\n",
    "Win_Ratio=pd.crosstab(df['Location'],df['Deal Status Code'])\n",
    "Win_Ratio['Total']=(Win_Ratio['Lost']+Win_Ratio['Won'])\n",
    "Win_Ratio['Lost%']=(Win_Ratio['Lost']*100)/(Win_Ratio['Total'])\n",
    "Win_Ratio.sort_values(by=['Lost%'],ascending=False).head(10)"
   ]
  },
  {
   "cell_type": "code",
   "execution_count": null,
   "id": "ef21ab1c",
   "metadata": {},
   "outputs": [],
   "source": [
    "loc_df_lost = df[df[\"Deal Status Code\"]==\"Lost\"][[\"Name Pair\",\"Location\"]]\n",
    "loc_df_lost.head()"
   ]
  },
  {
   "cell_type": "code",
   "execution_count": null,
   "id": "e7b50f0e",
   "metadata": {},
   "outputs": [],
   "source": [
    "loc_table_lost=pt([\"Location\",\"Names\",\"Lost Counts\"])\n",
    "loc_table_lost.add_row([\"Others\",loc_df_lost[loc_df_lost[\"Location\"]==\"Others\"][\"Name Pair\"].value_counts().index[0],loc_df_lost[loc_df_lost[\"Location\"]==\"Others\"][\"Name Pair\"].value_counts()[0]])\n",
    "Loc,Names,Counts=[],[],[]\n",
    "for i in range(1,len(loc_df_lost[\"Location\"].unique())):\n",
    "    loc_table_lost.add_row([\"Location {}\".format(i),loc_df_lost[loc_df_lost[\"Location\"]==\"L{}\".format(i)][\"Name Pair\"].value_counts().index[0],loc_df_lost[loc_df_lost[\"Location\"]==\"L{}\".format(i)][\"Name Pair\"].value_counts()[0]])"
   ]
  },
  {
   "cell_type": "code",
   "execution_count": null,
   "id": "eda13a9d",
   "metadata": {},
   "outputs": [],
   "source": [
    "loc_table_lost.sortby = 'Lost Counts'\n",
    "loc_table_lost.reversesort = True\n",
    "loc_table_lost"
   ]
  },
  {
   "cell_type": "code",
   "execution_count": null,
   "id": "0fa570a6",
   "metadata": {},
   "outputs": [],
   "source": [
    "#Win%age of VP Name column\n",
    "\n",
    "Loss_Ratio = pd.crosstab(df[\"Name Pair\"], df['Deal Status Code'])\n",
    "Loss_Ratio['Total'] = (Loss_Ratio['Lost'] + Loss_Ratio['Won']) # use the \"True\" condition to get the \"Won\" count\n",
    "Loss_Ratio['Lost%'] = (Loss_Ratio['Lost'] * 100) / (Loss_Ratio['Total'])\n",
    "Loss_Ratio.sort_values(by=['Lost%'], ascending=False).tail(10)\n"
   ]
  },
  {
   "cell_type": "markdown",
   "id": "12f72762",
   "metadata": {},
   "source": [
    "# DATA CLEANING"
   ]
  },
  {
   "cell_type": "markdown",
   "id": "441c8637",
   "metadata": {},
   "source": [
    "# REPLACED NULL WITH MODE"
   ]
  },
  {
   "cell_type": "code",
   "execution_count": null,
   "id": "890b6801",
   "metadata": {},
   "outputs": [],
   "source": [
    "df.isna().sum()"
   ]
  },
  {
   "cell_type": "code",
   "execution_count": null,
   "id": "9d3542b2",
   "metadata": {},
   "outputs": [],
   "source": [
    "df['Client Category']=df['Client Category'].fillna(df['Client Category'].mode()[0]) "
   ]
  },
  {
   "cell_type": "code",
   "execution_count": null,
   "id": "4c263e99",
   "metadata": {},
   "outputs": [],
   "source": [
    "df.isna().sum()"
   ]
  },
  {
   "cell_type": "markdown",
   "id": "cf9ac460",
   "metadata": {},
   "source": [
    "# REPLACED THE DEAL COST VALUE WITH MEAN"
   ]
  },
  {
   "cell_type": "code",
   "execution_count": null,
   "id": "3c30da44",
   "metadata": {},
   "outputs": [],
   "source": [
    "for i in df['Deal Cost']:\n",
    "    if i==0:\n",
    "        df['Deal Cost']=df['Deal Cost'].replace(i,df['Deal Cost'].mean())"
   ]
  },
  {
   "cell_type": "code",
   "execution_count": null,
   "id": "17b873eb",
   "metadata": {},
   "outputs": [],
   "source": [
    "df['Deal Cost'].tail(50)"
   ]
  },
  {
   "cell_type": "markdown",
   "id": "698ef5d6",
   "metadata": {},
   "source": [
    "# OUTLIERS TREATMENT USING IQR METHOD"
   ]
  },
  {
   "cell_type": "code",
   "execution_count": null,
   "id": "b7e0c585",
   "metadata": {},
   "outputs": [],
   "source": [
    "plt.figure(figsize=(12, 6)) \n",
    "sns.boxplot(df['Deal Cost'])"
   ]
  },
  {
   "cell_type": "markdown",
   "id": "df2af21d",
   "metadata": {},
   "source": [
    "# IQR METHOD"
   ]
  },
  {
   "cell_type": "code",
   "execution_count": null,
   "id": "46504cea",
   "metadata": {},
   "outputs": [],
   "source": [
    "df['Deal Cost'] = df['Deal Cost'].astype(int)"
   ]
  },
  {
   "cell_type": "code",
   "execution_count": null,
   "id": "7d55a7de",
   "metadata": {},
   "outputs": [],
   "source": [
    "Q1=np.percentile(df['Deal Cost'],25)\n",
    "Q3=np.percentile(df['Deal Cost'],75)"
   ]
  },
  {
   "cell_type": "code",
   "execution_count": null,
   "id": "eb8a17a1",
   "metadata": {},
   "outputs": [],
   "source": [
    "IQR = Q3-Q1\n",
    "upper=Q3+1.5*IQR\n",
    "lower = Q1 -1.5*IQR"
   ]
  },
  {
   "cell_type": "code",
   "execution_count": null,
   "id": "7e8e5283",
   "metadata": {},
   "outputs": [],
   "source": [
    "df['Deal Cost'].describe()"
   ]
  },
  {
   "cell_type": "code",
   "execution_count": null,
   "id": "c0bd2968",
   "metadata": {},
   "outputs": [],
   "source": [
    "df['Deal Cost']=np.where(df['Deal Cost']>upper,upper,df['Deal Cost'])"
   ]
  },
  {
   "cell_type": "code",
   "execution_count": null,
   "id": "1cd70f31",
   "metadata": {},
   "outputs": [],
   "source": [
    "plt.figure(figsize=(12, 6)) \n",
    "sns.boxplot(df['Deal Cost'])"
   ]
  },
  {
   "cell_type": "markdown",
   "id": "0d0467ca",
   "metadata": {},
   "source": [
    "# BALANCING DATA USING LOGARITHMIC TRANSFORMATION"
   ]
  },
  {
   "cell_type": "code",
   "execution_count": null,
   "id": "15b5798d",
   "metadata": {},
   "outputs": [],
   "source": [
    "df['Deal Cost']=np.log(df['Deal Cost'])"
   ]
  },
  {
   "cell_type": "code",
   "execution_count": null,
   "id": "1536de4d",
   "metadata": {},
   "outputs": [],
   "source": [
    "df['Deal Cost'].describe()"
   ]
  },
  {
   "cell_type": "code",
   "execution_count": null,
   "id": "ee760438",
   "metadata": {},
   "outputs": [],
   "source": [
    "df.shape"
   ]
  },
  {
   "cell_type": "markdown",
   "id": "c3dfb18d",
   "metadata": {},
   "source": [
    "# ENCODING USING TARGET/MEAN ENCODING & LABEL ENCODING"
   ]
  },
  {
   "cell_type": "markdown",
   "id": "0548dba6",
   "metadata": {},
   "source": [
    "We have use target encoding involves replacing a categorical feature with average target value of all data points belonging to the category and label encoding for target variable as 0 for 'Lost' and 1 for 'Won'"
   ]
  },
  {
   "cell_type": "code",
   "execution_count": null,
   "id": "31639aa1",
   "metadata": {},
   "outputs": [],
   "source": [
    "for col in Names_df+ cat_df:\n",
    "    print(col, ': ', len(df[col].unique()), ' labels')"
   ]
  },
  {
   "cell_type": "code",
   "execution_count": null,
   "id": "3577e206",
   "metadata": {},
   "outputs": [],
   "source": [
    "from category_encoders import TargetEncoder\n",
    "from sklearn.preprocessing import LabelEncoder\n",
    "le = LabelEncoder()\n",
    "te = TargetEncoder()"
   ]
  },
  {
   "cell_type": "code",
   "execution_count": null,
   "id": "977b2b94",
   "metadata": {},
   "outputs": [],
   "source": [
    "df['Deal Status Code']=le.fit_transform(df['Deal Status Code'].values)"
   ]
  },
  {
   "cell_type": "code",
   "execution_count": null,
   "id": "2e8b5105",
   "metadata": {},
   "outputs": [],
   "source": [
    "df['Client Category Encoded'] = te.fit_transform(df['Client Category'], df['Deal Status Code'])\n",
    "df['Solution Type Encoded'] = te.fit_transform(df['Solution Type'], df['Deal Status Code'])\n",
    "df['Sector Encoded'] = te.fit_transform(df['Sector'], df['Deal Status Code'])\n",
    "df['Location Encoded'] = te.fit_transform(df['Location'], df['Deal Status Code'])\n",
    "df['Name Pair Encoded'] = te.fit_transform(df['Name Pair'], df['Deal Status Code'])"
   ]
  },
  {
   "cell_type": "code",
   "execution_count": null,
   "id": "d321973a",
   "metadata": {},
   "outputs": [],
   "source": [
    "df.head()"
   ]
  },
  {
   "cell_type": "code",
   "execution_count": null,
   "id": "943af4f1",
   "metadata": {},
   "outputs": [],
   "source": [
    "df['Deal Cost']=np.log(df['Deal Cost'])"
   ]
  },
  {
   "cell_type": "code",
   "execution_count": null,
   "id": "af1e3162",
   "metadata": {},
   "outputs": [],
   "source": [
    "df.describe()"
   ]
  },
  {
   "cell_type": "markdown",
   "id": "a428d0b9",
   "metadata": {},
   "source": [
    "# CHECK CORR() USING HEATMAP"
   ]
  },
  {
   "cell_type": "code",
   "execution_count": null,
   "id": "93e772da",
   "metadata": {},
   "outputs": [],
   "source": [
    "df.corr()"
   ]
  },
  {
   "cell_type": "code",
   "execution_count": null,
   "id": "3b11a246",
   "metadata": {},
   "outputs": [],
   "source": [
    "plt.figure(figsize=(17,8))\n",
    "c= df.corr()\n",
    "sns.heatmap(c,cmap=\"BrBG\",annot=True)"
   ]
  },
  {
   "cell_type": "code",
   "execution_count": null,
   "id": "1d4b8367",
   "metadata": {},
   "outputs": [],
   "source": [
    "df.head()"
   ]
  },
  {
   "cell_type": "markdown",
   "id": "46e48a0d",
   "metadata": {},
   "source": [
    "# Features Selection"
   ]
  },
  {
   "cell_type": "code",
   "execution_count": null,
   "id": "aa755969",
   "metadata": {},
   "outputs": [],
   "source": [
    "df2=df.reindex(columns= ['Client Category Encoded', 'Solution Type Encoded','Sector Encoded','Name Pair Encoded','Deal Cost','Deal Status Code'])"
   ]
  },
  {
   "cell_type": "markdown",
   "id": "f56d87c9",
   "metadata": {},
   "source": [
    "# TRAIN TEST SPLIT"
   ]
  },
  {
   "cell_type": "code",
   "execution_count": null,
   "id": "90502f0b",
   "metadata": {},
   "outputs": [],
   "source": [
    "x=df2.drop(columns=[\"Deal Status Code\"],axis=1)\n",
    "y=df2[\"Deal Status Code\"]"
   ]
  },
  {
   "cell_type": "code",
   "execution_count": null,
   "id": "9c48f793",
   "metadata": {},
   "outputs": [],
   "source": [
    "from sklearn.model_selection import train_test_split\n",
    "x_train,x_test,y_train,y_test=train_test_split(x,y,test_size=0.3,random_state=0)"
   ]
  },
  {
   "cell_type": "markdown",
   "id": "feb4ca4e",
   "metadata": {},
   "source": [
    "# DATA SCALING"
   ]
  },
  {
   "cell_type": "code",
   "execution_count": null,
   "id": "4e780997",
   "metadata": {},
   "outputs": [],
   "source": [
    "from sklearn.preprocessing import StandardScaler\n",
    "sc = StandardScaler()"
   ]
  },
  {
   "cell_type": "code",
   "execution_count": null,
   "id": "01255c66",
   "metadata": {},
   "outputs": [],
   "source": [
    "x_train = sc.fit_transform(x_train)\n",
    "x_test = sc.transform(x_test)"
   ]
  },
  {
   "cell_type": "markdown",
   "id": "506110ae",
   "metadata": {},
   "source": [
    "# USED LOGISTIC REGRESSION TO BUILD MODEL"
   ]
  },
  {
   "cell_type": "code",
   "execution_count": null,
   "id": "b6b1826f",
   "metadata": {},
   "outputs": [],
   "source": [
    "from sklearn.linear_model import LogisticRegression\n",
    "lor= LogisticRegression()\n",
    "lor.fit(x_train,y_train)"
   ]
  },
  {
   "cell_type": "code",
   "execution_count": null,
   "id": "b32cece6",
   "metadata": {},
   "outputs": [],
   "source": [
    "pred_lor= lor.predict(x_test)"
   ]
  },
  {
   "cell_type": "code",
   "execution_count": null,
   "id": "34f391dd",
   "metadata": {},
   "outputs": [],
   "source": [
    "from sklearn.metrics import accuracy_score, confusion_matrix, classification_report"
   ]
  },
  {
   "cell_type": "code",
   "execution_count": null,
   "id": "246de649",
   "metadata": {},
   "outputs": [],
   "source": [
    "acc_lor = round( metrics.accuracy_score(y_test, pred_lor) * 100 , 2 )\n",
    "print( 'Accuracy of Logistic Regression model : ', acc_lor )"
   ]
  },
  {
   "cell_type": "code",
   "execution_count": null,
   "id": "71b3d839",
   "metadata": {},
   "outputs": [],
   "source": [
    "print(classification_report(y_test, pred_lor))"
   ]
  },
  {
   "cell_type": "code",
   "execution_count": null,
   "id": "8768bed3",
   "metadata": {},
   "outputs": [],
   "source": [
    "print(confusion_matrix(y_test, pred_lor))\n",
    "\n",
    "#TP FN\n",
    "#FP TN"
   ]
  },
  {
   "cell_type": "code",
   "execution_count": null,
   "id": "a03318a4",
   "metadata": {},
   "outputs": [],
   "source": [
    "from sklearn.metrics import plot_confusion_matrix,plot_roc_curve,roc_auc_score,roc_curve\n",
    "plot_confusion_matrix(lor, x_test, y_test, values_format='d', display_labels=['Won', 'Lost'])"
   ]
  },
  {
   "cell_type": "code",
   "execution_count": null,
   "id": "3c3801be",
   "metadata": {},
   "outputs": [],
   "source": [
    "plot_roc_curve(lor,x_test,y_test)"
   ]
  },
  {
   "cell_type": "markdown",
   "id": "57d2c025",
   "metadata": {},
   "source": [
    "# VALIDATING THE MODEL USING K- FOLD CROSS VALIDATION"
   ]
  },
  {
   "cell_type": "code",
   "execution_count": null,
   "id": "3532d468",
   "metadata": {},
   "outputs": [],
   "source": [
    "from sklearn.model_selection import KFold\n",
    "from sklearn.model_selection import cross_val_score"
   ]
  },
  {
   "cell_type": "code",
   "execution_count": null,
   "id": "dc73c6ac",
   "metadata": {},
   "outputs": [],
   "source": [
    "kfold = KFold(n_splits=10, shuffle=True, random_state=7)\n",
    "scores = cross_val_score(lor, x_train, y_train, cv=kfold)\n",
    "print(\"Scores:\", scores)\n",
    "print(\"Mean:\", scores.mean())\n",
    "print(\"Standard deviation:\", scores.std())"
   ]
  },
  {
   "cell_type": "markdown",
   "id": "4d9188d6",
   "metadata": {},
   "source": [
    "# USED RANDOM FOREST CLASSIFIER TO BUILD MODEL"
   ]
  },
  {
   "cell_type": "code",
   "execution_count": null,
   "id": "e22eb7d7",
   "metadata": {},
   "outputs": [],
   "source": [
    "from sklearn.ensemble import RandomForestClassifier\n",
    "rfc = RandomForestClassifier(bootstrap = False,\n",
    "                             criterion = 'entropy',\n",
    "                             max_depth = None,\n",
    "                             max_features = 2,\n",
    "                             min_samples_leaf = 1,\n",
    "                             min_samples_split = 5,\n",
    "                             n_estimators = 100,\n",
    "                            random_state=10)\n",
    "rfc.fit(x_train,y_train)"
   ]
  },
  {
   "cell_type": "code",
   "execution_count": null,
   "id": "22b5ea9e",
   "metadata": {},
   "outputs": [],
   "source": [
    "predict_rfc = rfc.predict(x_test)"
   ]
  },
  {
   "cell_type": "code",
   "execution_count": null,
   "id": "73e9684f",
   "metadata": {},
   "outputs": [],
   "source": [
    "from sklearn.metrics import accuracy_score, confusion_matrix, classification_report"
   ]
  },
  {
   "cell_type": "code",
   "execution_count": null,
   "id": "89d4112e",
   "metadata": {},
   "outputs": [],
   "source": [
    "acc_rfc = round( metrics.accuracy_score(y_test, predict_rfc) * 100 , 2 )\n",
    "print( 'Accuracy of Random Forest Classifier model : ', acc_rfc )"
   ]
  },
  {
   "cell_type": "code",
   "execution_count": null,
   "id": "5d322cc8",
   "metadata": {},
   "outputs": [],
   "source": [
    "print(classification_report(y_test, predict_rfc))"
   ]
  },
  {
   "cell_type": "code",
   "execution_count": null,
   "id": "b9a75cb1",
   "metadata": {},
   "outputs": [],
   "source": [
    "print(confusion_matrix(y_test, predict_rfc))\n",
    "\n",
    "#TP FN\n",
    "#FP TN"
   ]
  },
  {
   "cell_type": "code",
   "execution_count": null,
   "id": "4c99e38d",
   "metadata": {},
   "outputs": [],
   "source": [
    "from sklearn.metrics import plot_confusion_matrix,plot_roc_curve \n",
    "plot_confusion_matrix(rfc, x_test, y_test, values_format='d', display_labels=['Won', 'Lost'])"
   ]
  },
  {
   "cell_type": "code",
   "execution_count": null,
   "id": "95b41294",
   "metadata": {},
   "outputs": [],
   "source": [
    "plot_roc_curve(rfc,x_test,y_test)"
   ]
  },
  {
   "cell_type": "markdown",
   "id": "c0260cb0",
   "metadata": {},
   "source": [
    "# USED RANDOMIZED SEARCH CV"
   ]
  },
  {
   "cell_type": "code",
   "execution_count": null,
   "id": "b0cd866e",
   "metadata": {},
   "outputs": [],
   "source": [
    "from sklearn.model_selection import RandomizedSearchCV\n",
    "from scipy.stats import randint"
   ]
  },
  {
   "cell_type": "code",
   "execution_count": null,
   "id": "859148f1",
   "metadata": {},
   "outputs": [],
   "source": [
    "parameters={'max_depth':[3,5,None],\n",
    "            'n_estimators':[10,100,200],\n",
    "            'max_features':randint(1,3),\n",
    "            'criterion':['gini','entropy'],\n",
    "            'bootstrap':[True,False],\n",
    "            'min_samples_leaf':randint(1,4),\n",
    "            'min_samples_split': [2,5,10]\n",
    "              }"
   ]
  },
  {
   "cell_type": "code",
   "execution_count": null,
   "id": "4796833c",
   "metadata": {},
   "outputs": [],
   "source": [
    "rfc_randomcv = RandomizedSearchCV(estimator = rfc,\n",
    "                                  param_distributions = parameters,\n",
    "                                  cv = 5,\n",
    "                                  verbose = 2,\n",
    "                                  n_jobs = -1, random_state=10)"
   ]
  },
  {
   "cell_type": "code",
   "execution_count": null,
   "id": "5c41bd28",
   "metadata": {},
   "outputs": [],
   "source": [
    "rfc_randomcv.fit(x_train, y_train)"
   ]
  },
  {
   "cell_type": "code",
   "execution_count": null,
   "id": "b8cf407c",
   "metadata": {},
   "outputs": [],
   "source": [
    "rfc_randomcv.best_params_"
   ]
  },
  {
   "cell_type": "markdown",
   "id": "a8f38590",
   "metadata": {},
   "source": [
    "# VALIDATING THE MODEL USING K- FOLD CROSS VALIDATION"
   ]
  },
  {
   "cell_type": "code",
   "execution_count": null,
   "id": "2643b818",
   "metadata": {},
   "outputs": [],
   "source": [
    "kfold = KFold(n_splits=10, shuffle=True, random_state=7)\n",
    "scores = cross_val_score(rfc, x_train, y_train, cv=kfold)\n",
    "print(\"Scores:\", scores)\n",
    "print(\"Mean:\", scores.mean())\n",
    "print(\"Standard deviation:\", scores.std())"
   ]
  },
  {
   "cell_type": "markdown",
   "id": "2c13eb5b",
   "metadata": {},
   "source": [
    "# USED XGBOOST CLASSIFIER TO BUILD MODEL"
   ]
  },
  {
   "cell_type": "code",
   "execution_count": null,
   "id": "bf1465cd",
   "metadata": {},
   "outputs": [],
   "source": [
    "from xgboost import XGBClassifier\n",
    "xgc = XGBClassifier()\n",
    "xgc.fit(x_train, y_train)"
   ]
  },
  {
   "cell_type": "code",
   "execution_count": null,
   "id": "b6602da7",
   "metadata": {},
   "outputs": [],
   "source": [
    "predict_xgc = xgc.predict(x_test)"
   ]
  },
  {
   "cell_type": "code",
   "execution_count": null,
   "id": "ebd97877",
   "metadata": {},
   "outputs": [],
   "source": [
    "acc_xgc = round( metrics.accuracy_score(y_test, predict_xgc) * 100 , 2 )\n",
    "print( 'Accuracy of XGBoost Classifier model : ', acc_xgc )"
   ]
  },
  {
   "cell_type": "code",
   "execution_count": null,
   "id": "81e0a95d",
   "metadata": {},
   "outputs": [],
   "source": [
    "print(classification_report(y_test, predict_xgc))"
   ]
  },
  {
   "cell_type": "code",
   "execution_count": null,
   "id": "a0035f30",
   "metadata": {},
   "outputs": [],
   "source": [
    "print(confusion_matrix(y_test, predict_xgc))\n",
    "\n",
    "#TP FN\n",
    "#FP TN"
   ]
  },
  {
   "cell_type": "code",
   "execution_count": null,
   "id": "0ecf0e6a",
   "metadata": {},
   "outputs": [],
   "source": [
    "from sklearn.metrics import plot_confusion_matrix,plot_roc_curve \n",
    "plot_confusion_matrix(xgc, x_test, y_test, values_format='d', display_labels=['Won', 'Lost'])"
   ]
  },
  {
   "cell_type": "code",
   "execution_count": null,
   "id": "37c84fa8",
   "metadata": {},
   "outputs": [],
   "source": [
    "plot_roc_curve(xgc,x_test,y_test)"
   ]
  },
  {
   "cell_type": "markdown",
   "id": "949fad52",
   "metadata": {},
   "source": [
    "# VALIDATING THE MODEL USING K- FOLD CROSS VALIDATION"
   ]
  },
  {
   "cell_type": "code",
   "execution_count": null,
   "id": "abd1cd9c",
   "metadata": {},
   "outputs": [],
   "source": [
    "kfold = KFold(n_splits=10, shuffle=True, random_state=7)\n",
    "scores = cross_val_score(xgc, x_train, y_train, cv=kfold)\n",
    "print(\"Scores:\", scores)\n",
    "print(\"Mean:\", scores.mean())\n",
    "print(\"Standard deviation:\", scores.std())"
   ]
  },
  {
   "cell_type": "markdown",
   "id": "f797da0f",
   "metadata": {},
   "source": [
    "# MODELS ACCURACY"
   ]
  },
  {
   "cell_type": "code",
   "execution_count": null,
   "id": "7110a58d",
   "metadata": {},
   "outputs": [],
   "source": [
    "models = pd.DataFrame({'Model':['LogisticRegression', 'RandomForest', 'XGBoost'],'Score': [acc_lor,acc_rfc, acc_xgc]})\n",
    "\n",
    "models.sort_values(by='Score', ascending=False)"
   ]
  },
  {
   "cell_type": "markdown",
   "id": "e2ae8020",
   "metadata": {},
   "source": [
    "# TOP 5 COMBINATION OF SBU HEAD-BID MANAGER"
   ]
  },
  {
   "cell_type": "code",
   "execution_count": null,
   "id": "f080042d",
   "metadata": {},
   "outputs": [],
   "source": [
    "sum(df['Deal Status Code']==1)"
   ]
  },
  {
   "cell_type": "code",
   "execution_count": null,
   "id": "05f122d4",
   "metadata": {},
   "outputs": [],
   "source": [
    "combination = df[(df[\"Deal Status Code\"]==1)]\n",
    "combi = combination[[\"Name Pair\"]].value_counts().rename_axis([\"Name Pair\"]).reset_index(name='Won Counts')\n",
    "combi.head()"
   ]
  },
  {
   "cell_type": "markdown",
   "id": "7f7f6994",
   "metadata": {},
   "source": [
    "# COMPANY LOSS WRT FALSE PREDICTION"
   ]
  },
  {
   "cell_type": "code",
   "execution_count": null,
   "id": "c6d99b65",
   "metadata": {},
   "outputs": [],
   "source": [
    "df1 = pd.read_excel(r\"Win_Prediction_Data.xlsx\")"
   ]
  },
  {
   "cell_type": "code",
   "execution_count": null,
   "id": "43ece9f0",
   "metadata": {},
   "outputs": [],
   "source": [
    "compn_df = pd.DataFrame(y_test)\n",
    "compn_df[\"Deal Cost\"] = df1[\"Deal Cost\"]\n",
    "compn_df[\"Actual Values\"]= compn_df[\"Deal Status Code\"]\n",
    "compn_df = compn_df.drop(\"Deal Status Code\",axis = 1)\n",
    "compn_df[\"Predicted Values\"] = predict_rfc\n",
    "compn_df = compn_df.reset_index(drop=True)\n",
    "compn_df.head()"
   ]
  },
  {
   "cell_type": "code",
   "execution_count": null,
   "id": "ea481f1c",
   "metadata": {},
   "outputs": [],
   "source": [
    "sums = 0\n",
    "for i,j,k in zip(compn_df[\"Predicted Values\"],compn_df[\"Actual Values\"],compn_df[\"Deal Cost\"]):\n",
    "    if i!=j:\n",
    "        sums=k+sums        \n",
    "print(sums)"
   ]
  },
  {
   "cell_type": "code",
   "execution_count": null,
   "id": "d8a0e08c",
   "metadata": {},
   "outputs": [],
   "source": []
  }
 ],
 "metadata": {
  "kernelspec": {
   "display_name": "Python 3",
   "language": "python",
   "name": "python3"
  },
  "language_info": {
   "codemirror_mode": {
    "name": "ipython",
    "version": 3
   },
   "file_extension": ".py",
   "mimetype": "text/x-python",
   "name": "python",
   "nbconvert_exporter": "python",
   "pygments_lexer": "ipython3",
   "version": "3.7.15"
  },
  "varInspector": {
   "cols": {
    "lenName": 16,
    "lenType": 16,
    "lenVar": 40
   },
   "kernels_config": {
    "python": {
     "delete_cmd_postfix": "",
     "delete_cmd_prefix": "del ",
     "library": "var_list.py",
     "varRefreshCmd": "print(var_dic_list())"
    },
    "r": {
     "delete_cmd_postfix": ") ",
     "delete_cmd_prefix": "rm(",
     "library": "var_list.r",
     "varRefreshCmd": "cat(var_dic_list()) "
    }
   },
   "types_to_exclude": [
    "module",
    "function",
    "builtin_function_or_method",
    "instance",
    "_Feature"
   ],
   "window_display": false
  }
 },
 "nbformat": 4,
 "nbformat_minor": 5
}
